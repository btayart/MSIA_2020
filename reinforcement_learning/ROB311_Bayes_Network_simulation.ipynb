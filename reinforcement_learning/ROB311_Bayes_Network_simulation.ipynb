{
 "cells": [
  {
   "cell_type": "markdown",
   "metadata": {},
   "source": [
    "ROB 311 - TP5\n",
    "---\n",
    "Simulation of the Bayes Network\n",
    "---\n",
    "***Brice TAYART***\n",
    "\n",
    "The following code simulates the Bayes Network of assignment #5 of the *Machine Learning for Robotics* course from ENSTA\n"
   ]
  },
  {
   "cell_type": "code",
   "execution_count": 1,
   "metadata": {},
   "outputs": [],
   "source": [
    "import numpy as np"
   ]
  },
  {
   "cell_type": "code",
   "execution_count": 2,
   "metadata": {},
   "outputs": [],
   "source": [
    "def cond_1(arr,thres):\n",
    "    \"\"\"This simulates a node with 1 parent\"\"\"\n",
    "    r = np.random.rand(*arr.shape)\n",
    "    out = np.zeros(arr.shape,dtype='bool')\n",
    "    out[arr] = r[arr]<thres[0]\n",
    "    out[~arr] = r[~arr]<thres[1]\n",
    "    return out"
   ]
  },
  {
   "cell_type": "code",
   "execution_count": 3,
   "metadata": {},
   "outputs": [],
   "source": [
    "def cond_2(arr1,arr2,thres):\n",
    "    \"\"\"This simulates a node with 2 parents\"\"\"\n",
    "    r = np.random.rand(*arr1.shape)\n",
    "    out = np.zeros(arr1.shape,dtype='bool')\n",
    "    out[arr1 & arr2] = r[arr1 & arr2]<thres[0]\n",
    "    out[arr1 & ~arr2] = r[arr1 & ~arr2]<thres[1]\n",
    "    out[~arr1 & arr2] = r[~arr1 & arr2]<thres[2]\n",
    "    out[~arr1 & ~arr2] = r[~arr1 & ~arr2]<thres[3]\n",
    "    return out"
   ]
  },
  {
   "cell_type": "code",
   "execution_count": 4,
   "metadata": {},
   "outputs": [],
   "source": [
    "# Number of samples drawn\n",
    "n_drawn = int(1e7);\n",
    "\n",
    "# Random patient\n",
    "#A = np.random.rand(n_drawn)<.1\n",
    "#S = np.random.rand(n_drawn)<.3\n",
    "\n",
    "# Force the patient to non-traveller non-smoker\n",
    "A = np.zeros(n_drawn,dtype='bool')\n",
    "S = np.zeros(n_drawn,dtype='bool')"
   ]
  },
  {
   "cell_type": "code",
   "execution_count": 5,
   "metadata": {},
   "outputs": [],
   "source": [
    "# 1st layer, Disease nodes\n",
    "T=cond_1(A,(0.1, 0.01))\n",
    "B=cond_1(S,(0.6, 0.8))\n",
    "C=cond_1(S,(0.2, 0.02))\n",
    "\n",
    "# 2nd layer, Medical exam nodes\n",
    "L=cond_2(B,C,(.6,.6,.6,.01))\n",
    "X=cond_2(T,C,(.7,.7,.7,.02))\n"
   ]
  },
  {
   "cell_type": "code",
   "execution_count": 6,
   "metadata": {},
   "outputs": [
    {
     "name": "stdout",
     "output_type": "stream",
     "text": [
      "Question 3 , 5155092 cases\n",
      "Bronchitis probability : 0.6208\n",
      "Cancer probability : 0.0155\n",
      "Tuberculosis probability : 0.0100\n"
     ]
    }
   ],
   "source": [
    "sel_Q3 = (~A & ~S & ~L)\n",
    "print(\"Question 3 , %d cases\"%sel_Q3.sum())\n",
    "print(\"Bronchitis probability : %.4f\"%B[sel_Q3].mean())\n",
    "print(\"Cancer probability : %.4f\"%C[sel_Q3].mean())\n",
    "print(\"Tuberculosis probability : %.4f\"%T[sel_Q3].mean())"
   ]
  },
  {
   "cell_type": "code",
   "execution_count": 7,
   "metadata": {},
   "outputs": [
    {
     "name": "stdout",
     "output_type": "stream",
     "text": [
      "Question 4 , 191890 cases\n",
      "Bronchitis probability : 0.6712\n",
      "Cancer probability : 0.2911\n",
      "Tuberculosis probability : 0.1886\n"
     ]
    }
   ],
   "source": [
    "sel_Q4 = (~A & ~S & ~L & X)\n",
    "print(\"Question 4 , %d cases\"%sel_Q4.sum())\n",
    "print(\"Bronchitis probability : %.4f\"%B[sel_Q4].mean())\n",
    "print(\"Cancer probability : %.4f\"%C[sel_Q4].mean())\n",
    "print(\"Tuberculosis probability : %.4f\"%T[sel_Q4].mean())"
   ]
  },
  {
   "cell_type": "markdown",
   "metadata": {},
   "source": [
    "***Conclusion***: The simulation results match the theoretical results from the assignment report."
   ]
  }
 ],
 "metadata": {
  "kernelspec": {
   "display_name": "Python 3",
   "language": "python",
   "name": "python3"
  },
  "language_info": {
   "codemirror_mode": {
    "name": "ipython",
    "version": 3
   },
   "file_extension": ".py",
   "mimetype": "text/x-python",
   "name": "python",
   "nbconvert_exporter": "python",
   "pygments_lexer": "ipython3",
   "version": "3.7.3"
  }
 },
 "nbformat": 4,
 "nbformat_minor": 2
}
