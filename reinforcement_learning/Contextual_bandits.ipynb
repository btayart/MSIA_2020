{
 "cells": [
  {
   "cell_type": "markdown",
   "metadata": {
    "colab_type": "text",
    "id": "njfnT-sUER9J"
   },
   "source": [
    "# Practical Session on Stochastic Linear Bandits :\n",
    "\n",
    "The architecture of code below provides the environment to run a standard linear bandit experiment. \n",
    "\n",
    "## LinUCB : Implementing optimism in $R^d$\n",
    "\n",
    "* Implement LinUCB as studied in class. In your opinion, what is (are) the bottleneck(s) of this algorithm ? \n",
    "* One key step is to invert the covariance matrix in order to compute the elliptical norm of each available action. At round $t+1$ the new covariance matrix is very similar to the previous one... Can you think of a way to optimize this step by simply updating the old one ? \n",
    "Hint : You can search for a way to compute the inverse of the sum of an invertible matrix A and the outer product, $ uv^\\top$, of vectors u and v.\n",
    "* It is common practice to tweak LinUCB by multiplying the confidence bonus by some hyperparameter $ 0<\\alpha <1 $. \n",
    "What would be the effect of doing so ? Do you think it is a good idea ? What are the risks ?\n",
    "\n",
    "## LinTS : Taking the Bayesian way\n",
    "\n",
    "Thompson Sampling is a popular bayesian alternative to the standard optimistic bandit algorithms (see Chapter 36 of Bandit Algorithms). The key idea is to rely on Bayesian samples to get a proxy for the hidden parameter $\\theta$ of the problem instead of building high-probability confidence regions. \n",
    "\n",
    "* Let us place a Gaussian prior with mean $\\mathbf{0}$ and covariance $\\sigma_0 I$ on $\\theta$. Given actions $A_1,\\ldots,A_t$ and rewards $Y_1,\\ldots,Y_t$, Can you compute the expression of the posterior at the beginning of round $t+1$ ? \n",
    "* Implement LinTS (Linear Thompson Sampling)\n",
    "\n",
    "---\n",
    "\n",
    "**Student : Brice TAYART**\n",
    "\n",
    "<font color=\"darkblue\"> Answer to the questions and comments are in blue </font>\n"
   ]
  },
  {
   "cell_type": "code",
   "execution_count": 1,
   "metadata": {
    "colab": {},
    "colab_type": "code",
    "id": "ylZIq1mOJBr8"
   },
   "outputs": [],
   "source": [
    "import seaborn as sns\n",
    "import sys\n",
    "\n",
    "import numpy as np\n",
    "from scipy.stats import bernoulli\n",
    "from math import log\n",
    "\n",
    "import random\n",
    "import matplotlib.pyplot as plt\n",
    "%matplotlib inline"
   ]
  },
  {
   "cell_type": "markdown",
   "metadata": {
    "colab_type": "text",
    "id": "cX2dtH9A90C0"
   },
   "source": [
    "# Plot Function"
   ]
  },
  {
   "cell_type": "code",
   "execution_count": 2,
   "metadata": {
    "colab": {},
    "colab_type": "code",
    "id": "1JbkkaXnJgqG"
   },
   "outputs": [],
   "source": [
    "# Plot function :\n",
    "# -*-coding: utf-8 -*-\n",
    "\n",
    "current_palette = sns.color_palette()\n",
    "sns.set_style(\"ticks\")\n",
    "\n",
    "\n",
    "styles = ['o', '^', 's', 'D', '*']\n",
    "colors = current_palette[0:4]+current_palette[5:6]\n",
    "color_lb = current_palette[4]\n",
    "\n",
    "algos = {'LinUCB': 'LinUCB',\n",
    "         'Unif': 'Unif',\n",
    "         'LinTS': 'LinTS'}\n",
    "\n",
    "\n",
    "def plot_regret(data, tsav, filename, log=False, taum=False,\n",
    "                freq=50, qtl=False):\n",
    "    fig = plt.figure(figsize=(7, 6))\n",
    "    Nsub = len(tsav)\n",
    "    T = len(data[0][1])  # length of regret\n",
    "    N_curves = len(data)\n",
    "    if log == True:\n",
    "        plt.xscale('log')\n",
    "        markevery = 1. / 12\n",
    "        freq = 1\n",
    "    i = 0\n",
    "\n",
    "    for key, regret, avgRegret, qRegret, QRegret in data:\n",
    "        T = len(regret)\n",
    "        if qtl:\n",
    "            label = algos[key]  # r\"\\textbf{%s}\" %\n",
    "            plt.plot(tsav, avgRegret, marker=styles[i], markevery=4,\n",
    "                     ms=10.0, label=label, color=colors[i])\n",
    "            plt.fill_between(tsav, qRegret, QRegret, alpha=0.15,\n",
    "                             linewidth=1.5, color=colors[i])\n",
    "        else:\n",
    "            label = algos[key]  # r\"\\textbf{%s}\" % algos[key]\n",
    "            plt.plot(np.arange(len(regret))[0::freq], regret[0::freq],\n",
    "                     marker=styles[i], ms=10.0,\n",
    "                     label=label, color=colors[i])\n",
    "        i += 1\n",
    "\n",
    "    plt.legend(loc=2)\n",
    "    plt.xlabel('Round t', fontsize=20)\n",
    "    plt.ylabel('Regret R(T)', fontsize=18)\n",
    "\n",
    "    plt.savefig('%s.pdf' % (filename), bbox_inches='tight')\n",
    "    plt.show()\n",
    "    plt.close(fig)\n",
    "    return"
   ]
  },
  {
   "cell_type": "markdown",
   "metadata": {
    "colab_type": "text",
    "id": "HH892IKv95t3"
   },
   "source": [
    "# Action generators "
   ]
  },
  {
   "cell_type": "code",
   "execution_count": 3,
   "metadata": {
    "colab": {},
    "colab_type": "code",
    "id": "dKTTMwwB8rQS"
   },
   "outputs": [],
   "source": [
    "def randomActionsGenerator(K, d):\n",
    "    \"\"\"\n",
    "    K: int -- number of action vectors to be generated\n",
    "    d : int -- dimension of the action space\n",
    "    returns : an array of K vectors uniformly sampled on the unit sphere in R^d\n",
    "    \"\"\"\n",
    "\n",
    "    vecs = np.random.multivariate_normal(np.zeros(d), np.eye(d), size=K)\n",
    "    norms = np.linalg.norm(vecs, axis=1)\n",
    "    return vecs / norms[:, np.newaxis]"
   ]
  },
  {
   "cell_type": "code",
   "execution_count": 4,
   "metadata": {
    "colab": {},
    "colab_type": "code",
    "id": "oRMn0Zrx9rvX"
   },
   "outputs": [],
   "source": [
    "a = randomActionsGenerator(100, 2)"
   ]
  },
  {
   "cell_type": "code",
   "execution_count": 5,
   "metadata": {
    "colab": {
     "base_uri": "https://localhost:8080/",
     "height": 286
    },
    "colab_type": "code",
    "id": "UeLSv2Vp9-75",
    "outputId": "0c6e20e2-009c-4d15-afdf-10dd2b306a6b"
   },
   "outputs": [
    {
     "data": {
      "text/plain": [
       "<matplotlib.collections.PathCollection at 0x7fa030d2ef98>"
      ]
     },
     "execution_count": 5,
     "metadata": {},
     "output_type": "execute_result"
    },
    {
     "data": {
      "image/png": "[encoded data removed]",
      "text/plain": [
       "<Figure size 432x288 with 1 Axes>"
      ]
     },
     "metadata": {},
     "output_type": "display_data"
    }
   ],
   "source": [
    "plt.scatter(a[:, 0], a[:, 1])"
   ]
  },
  {
   "cell_type": "markdown",
   "metadata": {
    "colab_type": "text",
    "id": "3phj8yu79_Rt"
   },
   "source": [
    "# Environment Class"
   ]
  },
  {
   "cell_type": "code",
   "execution_count": 6,
   "metadata": {
    "colab": {},
    "colab_type": "code",
    "id": "zKlD-rMUKumJ"
   },
   "outputs": [],
   "source": [
    "class Environment:\n",
    "    \"\"\"\n",
    "      Parameters:\n",
    "      -----------\n",
    "      K:  int\n",
    "          Number of arms generated at each round\n",
    "\n",
    "      d: int\n",
    "          Dimension of the problem\n",
    "\n",
    "      theta: d-dimensional vector\n",
    "          Key hidden parameter of the problem\n",
    "\n",
    "\n",
    "      \"\"\"\n",
    "\n",
    "    def __init__(self, d, K, theta):\n",
    "        self.theta = theta\n",
    "        self.d = d\n",
    "        self.K = K\n",
    "\n",
    "    def play(self, chosen_arm):\n",
    "        \"\"\"Play the arm with index choice and returns the corresponding reward:\n",
    "\n",
    "            expected_reward + gaussian_noise\n",
    "            \"\"\"\n",
    "\n",
    "        expected_reward = np.dot(chosen_arm, self.theta)\n",
    "        reward = np.random.normal(expected_reward)\n",
    "\n",
    "        return chosen_arm, expected_reward, reward\n",
    "\n",
    "    def getBestArm(self, arms):\n",
    "        \"\"\"Return the index of the best arm and the corresponding expected payoff\"\"\"\n",
    "        payoffs = np.zeros(self.K)\n",
    "        for i in range(self.K):\n",
    "            payoffs[i] = np.dot(arms[i, :], self.theta)\n",
    "\n",
    "        bestArm = np.argmax(payoffs)\n",
    "        return bestArm, payoffs[bestArm]"
   ]
  },
  {
   "cell_type": "markdown",
   "metadata": {
    "colab_type": "text",
    "id": "-_PSPRfU-CRy"
   },
   "source": [
    "# Simulator"
   ]
  },
  {
   "cell_type": "code",
   "execution_count": 7,
   "metadata": {
    "colab": {},
    "colab_type": "code",
    "id": "DGBOLpGfIg7M"
   },
   "outputs": [],
   "source": [
    "class Simulator():\n",
    "    \"\"\"\n",
    "      Simulator of stochastic delayed games.\n",
    "\n",
    "      Params:\n",
    "      -------\n",
    "\n",
    "      policies: list\n",
    "          List of policies to test.\n",
    "\n",
    "      K: int\n",
    "          Number of arms to be generated at each round\n",
    "\n",
    "      d: int\n",
    "          Dimension of the problem\n",
    "\n",
    "      \"\"\"\n",
    "\n",
    "    def __init__(self, environment, policies, K, d):\n",
    "        self.env = environment\n",
    "        self.policies = policies\n",
    "        self.d = d\n",
    "        self.K = K\n",
    "\n",
    "    def run(self, T, N, q, tsav):\n",
    "        \"\"\"Runs an experiment with parameters T and N.\n",
    "\n",
    "            It returns a dictionary whose keys are policies and whose values\n",
    "            are the regret obtained by these policies over the experiments and\n",
    "            averaged over N runs.qRegret and QRegret are the first and third quartiles.\n",
    "\n",
    "            Parameters\n",
    "            ----------\n",
    "            T: int\n",
    "                Length of the sequential allocations.\n",
    "\n",
    "            N: int\n",
    "                Number of Monte Carlo repetitions.\n",
    "\n",
    "            q: int\n",
    "                Quantile parameter (e.g. 25 -> quartiles)\n",
    "\n",
    "            tsav: numpy array (ndim = 1)\n",
    "                Points to save on each trajectory.\n",
    "            \"\"\"\n",
    "        #Nsub = np.size(tsav)\n",
    "\n",
    "        regret, cumRegret, N_plays = dict(), dict(), dict()\n",
    "        Nsub = np.size(tsav)  # Number of points saved for each trajectory\n",
    "        avgRegret, qRegret, QRegret = dict(), dict(), dict()\n",
    "\n",
    "        for policy in self.policies:\n",
    "            name = policy.id()\n",
    "            cumRegret[name] = np.zeros((N, Nsub))\n",
    "            regret[name] = np.zeros(T)\n",
    "\n",
    "        for nExp in range(N):\n",
    "\n",
    "            if N < 10 or nExp % (N / 5) == 0:\n",
    "                print(\"experiments executed:\", nExp)\n",
    "                sys.stdout.flush()\n",
    "\n",
    "            for policy in self.policies:\n",
    "\n",
    "                name = policy.id()\n",
    "                # Reinitialize the policy\n",
    "                policy.init()\n",
    "                optimalRewards = np.zeros(T)\n",
    "                rewards = np.zeros(T)\n",
    "\n",
    "                # We follow the policy\n",
    "                # print \"ready for experiment %d\" % (nExp)\n",
    "                for t in range(T):\n",
    "\n",
    "                    # get arms, play one of them (policy), get reward:\n",
    "                    availableArms = randomActionsGenerator(self.K, self.d)\n",
    "                    A_t = policy.selectArm(availableArms, self.K)\n",
    "                    chosen_arm, expected_reward, reward = self.env.play(\n",
    "                        availableArms[A_t, :])\n",
    "\n",
    "                    # update the policy:\n",
    "                    policy.updateState(chosen_arm, reward)\n",
    "\n",
    "                    # compute instant pseudo regret\n",
    "                    instantBestArm, instantBestReward = self.env.getBestArm(\n",
    "                        availableArms)\n",
    "                    optimalRewards[t] += instantBestReward\n",
    "                    rewards[t] += expected_reward\n",
    "\n",
    "                regret[name] += (optimalRewards - rewards)\n",
    "                cumRegret[name][nExp] += np.cumsum(\n",
    "                    optimalRewards - rewards)[tsav]\n",
    "\n",
    "        print(\"build data out of the experiments\")\n",
    "        for policy in self.policies:\n",
    "            name = policy.id()\n",
    "            regret[name] = np.cumsum(regret[name]) / N\n",
    "\n",
    "            cumReg = cumRegret[name]\n",
    "            avgRegret[name] = np.mean(cumReg, 0)\n",
    "            qRegret[name] = np.percentile(cumReg, q, 0)\n",
    "            QRegret[name] = np.percentile(cumReg, 100 - q, 0)\n",
    "\n",
    "        print(\"data built\")\n",
    "        return regret, avgRegret, qRegret, QRegret"
   ]
  },
  {
   "cell_type": "code",
   "execution_count": null,
   "metadata": {
    "colab": {},
    "colab_type": "code",
    "id": "ChN6oiILAk2S"
   },
   "outputs": [],
   "source": []
  },
  {
   "cell_type": "markdown",
   "metadata": {
    "colab_type": "text",
    "id": "DH0xNaMfBAbD"
   },
   "source": [
    "# Policies"
   ]
  },
  {
   "cell_type": "code",
   "execution_count": 8,
   "metadata": {
    "colab": {},
    "colab_type": "code",
    "id": "5A0uWkbDBEnI"
   },
   "outputs": [],
   "source": [
    "class Policy(object):\n",
    "\n",
    "    def __init__(self, K, T):\n",
    "        \"\"\"\n",
    "            Constructor.\n",
    "            \"\"\"\n",
    "        raise NotImplementedError(\"Method `__init__` is not implemented.\")\n",
    "\n",
    "    def selectArm(self, arms, K):\n",
    "        \"\"\"\n",
    "            This functions selects L arms among the K ones depending on statistics\n",
    "            over the past observations.\n",
    "            \"\"\"\n",
    "        raise NotImplementedError(\"Method `selectArms` is not implemented.\")\n",
    "\n",
    "    def updateState(self, chosen_arm, reward):\n",
    "        \"\"\"\n",
    "            This function updates the statistics given the new observations.\n",
    "            \"\"\"\n",
    "        raise NotImplementedError(\"Method `updateState` is not implemented.\")\n",
    "\n",
    "    def init(self):\n",
    "        \"\"\"\n",
    "            This function updates the statistics given the new observations.\n",
    "            \"\"\"\n",
    "        raise NotImplementedError(\"Method `updateState` is not implemented.\")\n",
    "\n",
    "    # @staticmethod\n",
    "    def id(self):\n",
    "        raise NotImplementedError(\"Static method `id` is not implemented.\")"
   ]
  },
  {
   "cell_type": "code",
   "execution_count": 9,
   "metadata": {
    "colab": {},
    "colab_type": "code",
    "id": "e9uEOaPwBAbA"
   },
   "outputs": [],
   "source": [
    "# Policies :\n",
    "from numpy.linalg import pinv\n",
    "\n",
    "\n",
    "class Uniform(Policy):\n",
    "    def __init__(self, T, d):\n",
    "        pass\n",
    "\n",
    "    def selectArm(self, arms, K):\n",
    "        return np.random.choice(K)\n",
    "\n",
    "    def updateState(self, chosen_arm, reward):\n",
    "        pass\n",
    "\n",
    "    def init(self):\n",
    "        pass\n",
    "\n",
    "    # @staticmethod\n",
    "    def id(self):\n",
    "        return 'Unif'"
   ]
  },
  {
   "cell_type": "markdown",
   "metadata": {},
   "source": [
    "\n",
    "## LinUCB : Implementing optimism in $\\mathbb{R}^d$\n",
    "\n",
    "* Implement LinUCB as studied in class. In your opinion, what is (are) the bottleneck(s) of this algorithm ?\n",
    "<font color=\"darkblue\"> <br> Profiling shows that most time is spend in the environment, sampling random arms at each round. The second most time consuming step is the policy update step which involves inverting matrix V. Third is the regret evaluation (seeking optimal arm). Fourth is the arm selection, which involves some scalar products for each candidate arm.<br>\n",
    "Sampling arms and seeking regret are part of the environment rather than LinUCB itself<br> <br></font>\n",
    "* One key step is to invert the covariance matrix in order to compute the elliptical norm of each available action. At round $t+1$ the new covariance matrix is very similar to the previous one... Can you think of a way to optimize this step by simply updating the old one ? \n",
    "Hint : You can search for a way to compute the inverse of the sum of an invertible matrix A and the outer product, $ uv^\\top$, of vectors u and v.\n",
    "<font color=\"darkblue\"> <br> Done using Sherman-Morrison formula. This makes the state update more than twice faster and, let it fall back behind regret evaluation as the 3rd slowest step in the algorithm <br>\n",
    "<br></font>\n",
    "* It is common practice to tweak LinUCB by multiplying the confidence bonus by some hyperparameter $ 0<\\alpha <1 $. \n",
    "What would be the effect of doing so ? Do you think it is a good idea ? What are the risks ?\n",
    "<font color=\"darkblue\"> <br>  This would have a similar effect as increasing the parameter delta, i.e. only looking for result is a smaller confidence interval around the estimate (although a change in &delta; would not have a linear effect on the confidence term, they go in the same direction). This makes the algorithm less optimistic and biased towards greedy exploitation.\n",
    "    \n",
    "    This increases the probability that the strategy will converge towards a sub-optimal strategy. It may work well is there if the noise on the reward is very small. However, in the generic case, lowering the confidence term will increase the upper bound on the regret of the resulting algorithm.</font>"
   ]
  },
  {
   "cell_type": "code",
   "execution_count": 10,
   "metadata": {
    "colab": {},
    "colab_type": "code",
    "id": "e9uEOaPwBAbA",
    "scrolled": true
   },
   "outputs": [],
   "source": [
    "class LinUCB(Policy):\n",
    "\n",
    "    def __init__(self, T, d, delta, params):\n",
    "        self.T = T\n",
    "        self.params = params\n",
    "        # dropping the loglog(t) term for now\n",
    "        self.d = d\n",
    "        \n",
    "        if (\"lambda\" in params):\n",
    "            self.lambda_reg = params[\"lambda\"]\n",
    "        else:\n",
    "            self.lambda_reg = 1\n",
    "\n",
    "        if \"S\" in params:\n",
    "            self.S = params[\"S\"]\n",
    "        else:\n",
    "            self.S = 1\n",
    "        \n",
    "        # This is computed once for all\n",
    "        self.beta_factor = -2*np.log(delta) \\\n",
    "                           - d*np.log(self.lambda_reg)\n",
    "        \n",
    "    def init(self):\n",
    "\n",
    "        self.t = 0\n",
    "        self.weighted_reward_vec = np.zeros((self.d,))\n",
    "        self.V = np.eye(self.d)*self.lambda_reg\n",
    "\n",
    "        if self.lambda_reg:\n",
    "            self.Vinv = np.zeros((self.d,self.d))\n",
    "        else:\n",
    "            self.Vinv = np.eye(self.d)/self.lambda_reg\n",
    "        self.theta_est = np.zeros((self.d,))\n",
    "        self.beta = 1\n",
    "\n",
    "    def selectArm(self, arms, K):\n",
    "        \"\"\"\n",
    "            This function implements LinUCB\n",
    "            Input:\n",
    "            -------\n",
    "            arms : list of arms (d-dimensional vectors)\n",
    "\n",
    "            Output:\n",
    "            -------\n",
    "            chosen_arm : index of the pulled arm\n",
    "            \"\"\"\n",
    "        # Take arg max of <arm,theta_estim> + sqrt(beta) norm_(Vt-1) (arm)\n",
    "        reward_est = np.zeros((K,))\n",
    "        \n",
    "        # Vectorize as much as possible\n",
    "        reward_est = np.dot(arms, self.theta_est)\n",
    "        tmp = ((arms @ self.Vinv) * arms).sum(axis=1)\n",
    "        \n",
    "        reward_est += np.sqrt(self.beta * tmp)\n",
    "\n",
    "        return reward_est.argmax()\n",
    "        \n",
    "    def updateState(self, chosen_arm, reward):\n",
    "        # accumulate matrix V and vector of chosen arms weighted by rewards\n",
    "        self.weighted_reward_vec += reward*chosen_arm\n",
    "        self.V += chosen_arm.reshape(-1, 1) @ \\\n",
    "                  chosen_arm.reshape(1, -1)\n",
    "        self.t += 1\n",
    "\n",
    "        #self.Vinv = np.linalg.pinv(self.V)\n",
    "        # optimized computation of Vinv\n",
    "        if self.Vinv.any():\n",
    "            sherman_morrisson(self.Vinv, chosen_arm, chosen_arm, inplace=True)\n",
    "        else:\n",
    "            # initialize the first time\n",
    "            self.Vinv = np.linalg.pinv(self.V)\n",
    "        \n",
    "        # compute theta estimate and beta\n",
    "        self.theta_est = self.Vinv @ self.weighted_reward_vec\n",
    "        self.beta = np.sqrt(self.lambda_reg)*self.S + \\\n",
    "            np.sqrt(np.log(np.linalg.det(self.V)) + self.beta_factor)\n",
    "        \n",
    "    def id(self):\n",
    "        return \"LinUCB\""
   ]
  },
  {
   "cell_type": "code",
   "execution_count": 11,
   "metadata": {},
   "outputs": [],
   "source": [
    "def sherman_morrisson(Ainv,u,v, inplace=False):\n",
    "    '''\n",
    "    Return the inverse of (A + u.vT) accordin to Sherman Morrison formula\n",
    "    '''\n",
    "    # Create 2D versions of the vectors u and vt\n",
    "    u = u.reshape(-1,1)\n",
    "    vt = v.reshape(1,-1)\n",
    "    \n",
    "    # Sherman-Morrison formula\n",
    "    update = (Ainv @ u @ vt @ Ainv) / (1 + vt @ Ainv @ u)\n",
    "    \n",
    "    # update in place or out of place\n",
    "    if inplace:\n",
    "        Ainv -= update\n",
    "        return None\n",
    "    else:\n",
    "        return Ainv - update"
   ]
  },
  {
   "cell_type": "markdown",
   "metadata": {},
   "source": [
    "<font color=\"darkblue\">\n",
    "\n",
    "## Linear Thompson sampling\n",
    "\n",
    "\n",
    "In the Ridge regression with a design matrix $X$ and observed values $y$, we seek: $$\\hat{\\theta}_{\\text{ridge},\\lambda} = \\underset{\\theta}{\\operatorname{argmin}} \\Vert X \\theta - y\\Vert^2_2 + \\lambda \\Vert \\theta \\Vert^2_2$$\n",
    "\n",
    "We assume that $y = X \\theta^* + \\epsilon$ where $\\theta^*$ is the true parameter of the model and $\\epsilon \\sim \\mathcal{N}(\\mathbf{0},\\sigma^2 I)$ is a vector of independant, identically distributed random variables following a centered gaussian distribution of variance $\\sigma^2$.\n",
    "\n",
    "Then $\\hat{\\theta}_{\\text{ridge},\\lambda}$ is a biased estimator of $\\theta^*$, given by the closed form formula:\n",
    "$$\\hat{\\theta}_{\\text{ridge},\\lambda} = (X^\\top X + \\lambda I)^{-1} X^\\top y$$\n",
    "Its covariance is:\n",
    "$$\\operatorname{\\mathbb{C}ov}(\\hat{\\theta}_{\\text{ridge},\\lambda}) = \n",
    "\\sigma^2 (X^\\top X + \\lambda I)^{-1} X^\\top X [(X^\\top X + \\lambda I)^{-1}]^\\top$$\n",
    "\n",
    "\n",
    "The Linear Thompson sampling scheme is achieved by sampling a value for &theta; according to the current estimate, i.e. a normal distribution centered on $\\hat{\\theta}_\\lambda$ with covariance $\\operatorname{\\mathbb{C}ov}(\\hat{\\theta}_{\\text{ridge},\\lambda})$. For this purpose, we need to store the following matrices and vectors:\n",
    "$$X^\\top y  =  \\sum_{i=1}^n X_i^\\top y_i $$\n",
    "$$X^\\top X  =  \\sum_{i=1}^n X_i^\\top X_i $$\n",
    "$$(X^\\top X +\\lambda I)^{-1}$$\n",
    "They can all be updated incrementally, the last one woth the Sherman-Morrison formula.\n",
    "\n",
    "The parameters will be the regularization parameter $\\lambda$ and some estimate of the variance of the noise $\\sigma^2$.\n",
    "\n",
    "Ridge regression is equivalent to adding a gaussian prior to the distribution of $\\theta$, with $\\theta \\sim \\mathcal{N}(\\mathbf{0},\\sigma_0^2 I)$ and $\\lambda = 1/\\sigma_0^2$. Still, the $\\sigma_0^2$ from the Gaussian prior is not related to the noise $\\sigma^2$ on the observations $y_i$.\n",
    "    \n",
    "</font>"
   ]
  },
  {
   "cell_type": "code",
   "execution_count": 12,
   "metadata": {},
   "outputs": [],
   "source": [
    "class LinTS(Policy):\n",
    "\n",
    "    def __init__(self, T, d, **kwargs):\n",
    "        self.T = T\n",
    "        self.params = kwargs\n",
    "        self.d = d\n",
    "        \n",
    "        if (\"lambda_reg\" in kwargs):\n",
    "            self.lambda_reg = kwargs[\"lambda_reg\"]\n",
    "        elif (\"sigma0\" in kwargs):\n",
    "            self.lambda_reg = 1 / kwargs[\"sigma0\"]**2\n",
    "        else:\n",
    "            self.lambda_reg = 1\n",
    "\n",
    "        if \"sigma2\" in kwargs:\n",
    "            self.sigma2 = kwargs[\"sigma2\"]\n",
    "        else:\n",
    "            self.sigma2 = 1\n",
    "        \n",
    "    def init(self):\n",
    "\n",
    "        self.t = 0\n",
    "        self.Xt_y = np.zeros((self.d,))\n",
    "        self.Xt_X = np.zeros((self.d,self.d))\n",
    "        self.Vinv = np.eye(self.d)/self.lambda_reg\n",
    "        \n",
    "        # initialization will give a random direction\n",
    "        self.theta_est = np.zeros((self.d,))\n",
    "        self.theta_cov = np.eye(self.d)\n",
    "        \n",
    "    def selectArm(self, arms, K):\n",
    "        \"\"\"\n",
    "            This function implements LinTS\n",
    "            Input:\n",
    "            -------\n",
    "            arms : list of arms (d-dimensional vectors)\n",
    "\n",
    "            Output:\n",
    "            -------\n",
    "            chosen_arm : index of the pulled arm\n",
    "            \"\"\"\n",
    "        # Sample theta\n",
    "        theta_sample = np.random.multivariate_normal(\n",
    "            self.theta_est, self.theta_cov)\n",
    "        \n",
    "        # Pick best reward\n",
    "        reward_est = arms @ theta_sample\n",
    "        return reward_est.argmax()\n",
    "        \n",
    "    def updateState(self, chosen_arm, reward):\n",
    "        # accumulate XT.X, XT.y and (XT.X + lambda I)^(-1)\n",
    "        self.Xt_y += reward*chosen_arm\n",
    "        self.Xt_X += chosen_arm.reshape(-1, 1) @ \\\n",
    "                      chosen_arm.reshape(1, -1)\n",
    "        self.t += 1\n",
    "\n",
    "        sherman_morrisson(self.Vinv, chosen_arm, chosen_arm, inplace=True)\n",
    "        \n",
    "        # compute theta estimate and covariance\n",
    "        self.theta_est = self.Vinv @ self.Xt_y\n",
    "        self.theta_cov = self.sigma2 * self.Vinv @ self.Xt_X @ self.Vinv.T\n",
    "        \n",
    "    def id(self):\n",
    "        return \"LinTS\""
   ]
  },
  {
   "cell_type": "markdown",
   "metadata": {
    "colab_type": "text",
    "id": "AY1ZUny5I4Pl"
   },
   "source": [
    "# main"
   ]
  },
  {
   "cell_type": "code",
   "execution_count": 13,
   "metadata": {},
   "outputs": [],
   "source": [
    "%load_ext line_profiler"
   ]
  },
  {
   "cell_type": "code",
   "execution_count": 18,
   "metadata": {
    "colab": {
     "base_uri": "https://localhost:8080/",
     "height": 138
    },
    "colab_type": "code",
    "id": "0BoYONrQBAan",
    "outputId": "33d7f115-c725-4544-f2ea-47e68bf8ad30",
    "scrolled": true
   },
   "outputs": [
    {
     "name": "stdout",
     "output_type": "stream",
     "text": [
      "experiments executed: 0\n",
      "experiments executed: 2\n",
      "experiments executed: 4\n",
      "experiments executed: 6\n",
      "experiments executed: 8\n",
      "build data out of the experiments\n",
      "data built\n"
     ]
    }
   ],
   "source": [
    "import time\n",
    "import numpy as np\n",
    "import pickle\n",
    "\n",
    "d = 15  # dimension\n",
    "K = 30  # number of arms\n",
    "\n",
    "# parametor vector \\theta, normalized :\n",
    "theta = np.random.randint(2, size=d)\n",
    "theta = theta / np.linalg.norm(theta)\n",
    "\n",
    "\n",
    "T = 1000  # Finite Horizon\n",
    "N = 10  # Monte Carlo simulations\n",
    "\n",
    "delta = 0.1\n",
    "\n",
    "# save subsampled points for Figures\n",
    "Nsub = 100\n",
    "tsav = range(2, T, Nsub)\n",
    "\n",
    "# choice of quantile display\n",
    "q = 10\n",
    "\n",
    "\n",
    "# Create an object of K arms with delayed feedback with mean delay tau\n",
    "env = Environment(d, K, theta)\n",
    "# Policies to evaluate\n",
    "policies = [LinUCB(T, d, delta, params={\"lambda\":1}),\n",
    "            LinTS(T,d, lambda_reg=.1, sigma2=1),\n",
    "            Uniform(T, d)]\n",
    "\n",
    "simulator = Simulator(env, policies, K, d)\n",
    "\n",
    "#%lprun -f Simulator.run -f LinUCB.selectArm\\\n",
    "regret, avgRegret, qRegret, QRegret = simulator.run(T, N, q, tsav)\n",
    "\n",
    "data = [[\n",
    "    policy, regret[policy], avgRegret[policy], qRegret[policy],\n",
    "    QRegret[policy]\n",
    "] for policy in avgRegret]\n",
    "\n",
    "\n",
    "\n",
    "# data\n",
    "#   with open('linucb_test' + str(d) + '_dim-' + str(K) + '_K' + '.pkl',\n",
    "#             'wb') as foutput:\n",
    "#     pickle.dump(data, foutput, protocol=2)"
   ]
  },
  {
   "cell_type": "code",
   "execution_count": 19,
   "metadata": {
    "colab": {
     "base_uri": "https://localhost:8080/",
     "height": 401
    },
    "colab_type": "code",
    "id": "4Aw_Nb8MDzJl",
    "outputId": "aedf8da5-4049-411b-9564-c636ca9f4e5b",
    "scrolled": false
   },
   "outputs": [
    {
     "data": {
      "image/png": "[encoded data removed]",
      "text/plain": [
       "<Figure size 504x432 with 1 Axes>"
      ]
     },
     "metadata": {},
     "output_type": "display_data"
    }
   ],
   "source": [
    "freq = 10\n",
    "plot_regret(\n",
    "    data,\n",
    "    tsav,\n",
    "    'linucb_test' + str(d) + '_dim-' + str(K) + '_K',\n",
    "    log=False,\n",
    "    freq=freq,\n",
    "    qtl=True)"
   ]
  }
 ],
 "metadata": {
  "colab": {
   "collapsed_sections": [],
   "name": "StochasticLinearBandits.ipynb",
   "provenance": []
  },
  "kernelspec": {
   "display_name": "Python 3",
   "language": "python",
   "name": "python3"
  },
  "language_info": {
   "codemirror_mode": {
    "name": "ipython",
    "version": 3
   },
   "file_extension": ".py",
   "mimetype": "text/x-python",
   "name": "python",
   "nbconvert_exporter": "python",
   "pygments_lexer": "ipython3",
   "version": "3.7.3"
  }
 },
 "nbformat": 4,
 "nbformat_minor": 1
}
